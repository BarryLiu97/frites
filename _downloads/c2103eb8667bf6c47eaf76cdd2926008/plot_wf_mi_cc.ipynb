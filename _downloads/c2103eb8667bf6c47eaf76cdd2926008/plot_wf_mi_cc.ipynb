{
  "cells": [
    {
      "cell_type": "code",
      "execution_count": null,
      "metadata": {
        "collapsed": false
      },
      "outputs": [],
      "source": [
        "%matplotlib inline"
      ]
    },
    {
      "cell_type": "markdown",
      "metadata": {},
      "source": [
        "\nWorkflow of mutual information between two continuous variables\n===============================================================\n\nThis example illustrates how to compute the mutual information between two\ncontinuous variables and also perform statistics. Usually, the first variable\nis an electrophysiological data (M/EEG, intracranial) and a regressor. This\nkind of mutual information is equivalent to a traditional correlation. Note\nthat the regressor variable can either be univariate (single column) or\nmultivariate (multiple columns). For further details, see\nInce et al., 2017 :cite:`ince2017statistical`\n\n"
      ]
    },
    {
      "cell_type": "code",
      "execution_count": null,
      "metadata": {
        "collapsed": false
      },
      "outputs": [],
      "source": [
        "import numpy as np\n\nfrom frites.simulations import sim_multi_suj_ephy, sim_mi_cc\nfrom frites.dataset import DatasetEphy\nfrom frites.workflow import WfMi\n\nimport matplotlib.pyplot as plt\nplt.style.use('seaborn-white')"
      ]
    },
    {
      "cell_type": "markdown",
      "metadata": {},
      "source": [
        "Simulate electrophysiological data\n----------------------------------\n\nLet's start by simulating MEG / EEG electrophysiological data coming from\nmultiple subjects using the function\n:func:`frites.simulations.sim_multi_suj_ephy`. As a result, the `x` output\nis a list of length `n_subjects` of arrays, each one with a shape of\nn_epochs, n_sites, n_times\n\n"
      ]
    },
    {
      "cell_type": "code",
      "execution_count": null,
      "metadata": {
        "collapsed": false
      },
      "outputs": [],
      "source": [
        "modality = 'meeg'\nn_subjects = 5\nn_epochs = 400\nn_times = 100\nx, roi, time = sim_multi_suj_ephy(n_subjects=n_subjects, n_epochs=n_epochs,\n                                  n_times=n_times, modality=modality,\n                                  random_state=0)"
      ]
    },
    {
      "cell_type": "markdown",
      "metadata": {},
      "source": [
        "Extract the regressor variable\n------------------------------\n\nOnce we have the electrophysiological, we need to extract the second variable\nthat is going to serves for computing the \"correlation\" at each time point\nand at each site / channel / sensor. To do this, we can simply take the mean\nover time points and region of interest in a time window\n\n"
      ]
    },
    {
      "cell_type": "code",
      "execution_count": null,
      "metadata": {
        "collapsed": false
      },
      "outputs": [],
      "source": [
        "sl = slice(40, 60)\ny = [x[k][..., sl].mean(axis=(1, 2)) for k in range(len(x))]"
      ]
    },
    {
      "cell_type": "markdown",
      "metadata": {},
      "source": [
        "<div class=\"alert alert-info\"><h4>Note</h4><p>Taking the mean across time points and space is exactly the behavior of\n    the function :func:`frites.simulations.sim_mi_cc`</p></div>\n\n"
      ]
    },
    {
      "cell_type": "markdown",
      "metadata": {},
      "source": [
        "Define the electrophysiological dataset\n---------------------------------------\n\nNow we define an instance of :class:`frites.dataset.DatasetEphy`\n\n"
      ]
    },
    {
      "cell_type": "code",
      "execution_count": null,
      "metadata": {
        "collapsed": false
      },
      "outputs": [],
      "source": [
        "dt = DatasetEphy(x, y, roi=roi)"
      ]
    },
    {
      "cell_type": "markdown",
      "metadata": {},
      "source": [
        "Compute the mutual information\n------------------------------\n\nOnce we have the dataset instance, we can then define an instance of workflow\n:class:`frites.workflow.WfMi`. This instance is used to compute the mutual\ninformation\n\n"
      ]
    },
    {
      "cell_type": "code",
      "execution_count": null,
      "metadata": {
        "collapsed": false
      },
      "outputs": [],
      "source": [
        "# mutual information type ('cc' = continuous / continuous)\nmi_type = 'cc'\n\n# define the workflow\nwf = WfMi(mi_type)\n# compute the mutual information\nmi, _ = wf.fit(dt, stat_method=None)\n\n# plot the information shared between the data and the regressor y\nplt.plot(time, mi)\nplt.xlabel(\"Time (s)\"), plt.ylabel(\"MI (bits)\")\nplt.show()"
      ]
    },
    {
      "cell_type": "markdown",
      "metadata": {},
      "source": [
        "Multivariate regressor\n----------------------\n\nExample above uses a univariate regressor (i.e a single column vector). But\nmultivariate regressors are also supported. Here is an example\nof multivariate regressor\n\n"
      ]
    },
    {
      "cell_type": "code",
      "execution_count": null,
      "metadata": {
        "collapsed": false
      },
      "outputs": [],
      "source": [
        "# take the mean over time points [10, 30]\nsl = slice(10, 30)\n_y_1 = [x[k][..., sl].mean(axis=(1, 2)) for k in range(len(x))]\n# take the mean over time points [70, 90]\nsl = slice(70, 90)\n_y_2 = [x[k][..., sl].mean(axis=(1, 2)) for k in range(len(x))]\n# concatenate the two vectors\ny_mv = [np.c_[_y_1[k], _y_2[k]] for k in range(len(_y_1))]\nprint([k.shape for k in y_mv])\n\n\n# compute the mutual information\ndt = DatasetEphy(x, y_mv, roi=roi)\nmi, _ = WfMi('cc').fit(dt, stat_method=None)\n# plot the result\nplt.plot(time, mi)\nplt.xlabel(\"Time (s)\"), plt.ylabel(\"MI (bits)\")\nplt.title(\"Multivariate regressor\")\nplt.show()"
      ]
    },
    {
      "cell_type": "markdown",
      "metadata": {},
      "source": [
        "Evaluate the statistics\n-----------------------\n\nIn the section above, the input parameter `stat_method=None` specifies that\nno statistics are going to be computed. Here, we show how to compute either\nwithin (ffx) or between subject (rfx) statistics.\n\n"
      ]
    },
    {
      "cell_type": "code",
      "execution_count": null,
      "metadata": {
        "collapsed": false
      },
      "outputs": [],
      "source": [
        "mi_type = 'cc'\nn_perm = 200\ny, _ = sim_mi_cc(x, snr=.1)\n\n# within subject statistics (ffx=fixed-effect)\nffx_stat = 'ffx_cluster_tfce'\ndt_ffx = DatasetEphy(x, y, roi=roi)\nwf_ffx = WfMi(mi_type, 'ffx')\nmi_ffx, pv_ffx = wf_ffx.fit(dt_ffx, stat_method=ffx_stat, n_perm=n_perm)\n\n# between-subject statistics (rfx=random-effect)\nrfx_stat = 'rfx_cluster_ttest_tfce'\n\ndt_rfx = DatasetEphy(x, y, roi=roi)\nwf_rfx = WfMi(mi_type, 'rfx')\nmi_rfx, pv_rfx = wf_rfx.fit(dt_rfx, stat_method=rfx_stat, n_perm=n_perm)\n\n# plot the comparison\nfig = plt.figure(figsize=(10, 8))\nfig.suptitle(\"Fixed-effect vs. Random-effect\")\n\nplt.subplot(221)\nplt.plot(time, mi_ffx)\nplt.xlabel(\"Time (s)\"), plt.ylabel(\"MI (bits)\")\nplt.title(f\"Mutual information ({ffx_stat})\")\nplt.subplot(223)\nplt.plot(time, pv_ffx)\nplt.xlabel(\"Time (s)\"), plt.ylabel(\"P-value\")\nplt.subplot(222)\nplt.plot(time, mi_rfx)\nplt.xlabel(\"Time (s)\"), plt.ylabel(\"MI (bits)\")\nplt.title(f\"Mutual information ({rfx_stat})\")\nplt.subplot(224)\nplt.plot(time, pv_rfx)\nplt.xlabel(\"Time (s)\"), plt.ylabel(\"P-value\")\nplt.show()"
      ]
    }
  ],
  "metadata": {
    "kernelspec": {
      "display_name": "Python 3",
      "language": "python",
      "name": "python3"
    },
    "language_info": {
      "codemirror_mode": {
        "name": "ipython",
        "version": 3
      },
      "file_extension": ".py",
      "mimetype": "text/x-python",
      "name": "python",
      "nbconvert_exporter": "python",
      "pygments_lexer": "ipython3",
      "version": "3.6.9"
    }
  },
  "nbformat": 4,
  "nbformat_minor": 0
}