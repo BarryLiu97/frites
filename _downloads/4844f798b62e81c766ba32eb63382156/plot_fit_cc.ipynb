{
  "cells": [
    {
      "cell_type": "code",
      "execution_count": null,
      "metadata": {
        "collapsed": false
      },
      "outputs": [],
      "source": [
        "%matplotlib inline"
      ]
    },
    {
      "cell_type": "markdown",
      "metadata": {},
      "source": [
        "\nInformation transfer about a continuous variable\n================================================\n\nThis example illustrates how to compute the amount of information that is sent\nfrom one region to another about a specific continuous feature. For further\ndetails, see Bim et al. 2019 :cite:`bim2019non`\n\n"
      ]
    },
    {
      "cell_type": "code",
      "execution_count": null,
      "metadata": {
        "collapsed": false
      },
      "outputs": [],
      "source": [
        "import numpy as np\n\nfrom frites.simulations import sim_distant_cc_ms\nfrom frites.dataset import DatasetEphy\nfrom frites.workflow import WfFit\n\nimport matplotlib.pyplot as plt\nplt.style.use('seaborn-white')"
      ]
    },
    {
      "cell_type": "markdown",
      "metadata": {},
      "source": [
        "Simulate electrophysiological data\n----------------------------------\n\nLet's start by simulating data coming from multiple subjects using the\nfunction :func:`frites.simulations.sim_distant_cc_ms`. As a result, the `x`\noutput is a list of length `n_subjects` of arrays, each one with a shape of\nn_epochs, n_sites, n_times\n\n"
      ]
    },
    {
      "cell_type": "code",
      "execution_count": null,
      "metadata": {
        "collapsed": false
      },
      "outputs": [],
      "source": [
        "n_subjects = 5\nn_epochs = 200\nx, y, roi, times = sim_distant_cc_ms(n_subjects, n_epochs=n_epochs)"
      ]
    },
    {
      "cell_type": "markdown",
      "metadata": {},
      "source": [
        "Define the electrophysiological dataset\n---------------------------------------\n\nNow we define an instance of :class:`frites.dataset.DatasetEphy`\n\n"
      ]
    },
    {
      "cell_type": "code",
      "execution_count": null,
      "metadata": {
        "collapsed": false
      },
      "outputs": [],
      "source": [
        "ds = DatasetEphy(x, y, roi=roi, times=times)"
      ]
    },
    {
      "cell_type": "markdown",
      "metadata": {},
      "source": [
        "Compute the bidirectionnal information transfer\n-----------------------------------------------\n\nOnce we have the dataset instance, we can then define an instance of workflow\n:class:`frites.workflow.WfFit`. This instance is used to compute the\ninformation transfer\n\n"
      ]
    },
    {
      "cell_type": "code",
      "execution_count": null,
      "metadata": {
        "collapsed": false
      },
      "outputs": [],
      "source": [
        "wf = WfFit()\nmi, _ = wf.fit(ds, n_perm=10)\nprint(mi)\n\n# when `net=False` it means that the information transfer is directed which\n# means we can either look at the amount of informations sent from roi_0 to\n# roi_1 or roi_1 to roi_0.\nit_0_to_1 = mi.sel(source='roi_0', target='roi_1')\nit_1_to_0 = mi.sel(source='roi_1', target='roi_0')\n\nplt.plot(it_0_to_1, label='roi_0 -> roi_1')\nplt.plot(it_1_to_0, label='roi_1 -> roi_0')\nplt.title('Bidirectionnal FIT')\nplt.xlabel('Time'), plt.ylabel('MI (bits)')\nplt.show()"
      ]
    },
    {
      "cell_type": "markdown",
      "metadata": {},
      "source": [
        "Compute the unidirectionnal information transfer\n------------------------------------------------\n\nNote that you can also compute the unidirectionnal FIT which is define as the\ndifference between `FIT(source - >target) - FIT(target -> source)`.\n\n"
      ]
    },
    {
      "cell_type": "code",
      "execution_count": null,
      "metadata": {
        "collapsed": false
      },
      "outputs": [],
      "source": [
        "wf = WfFit()\nmi, _ = wf.fit(ds, net=True, n_perm=10)\nprint(mi)\nit_net = mi.sel(source='roi_0', target='roi_1')\n\nplt.plot(it_net, label='roi_0 <-> roi_1')\nplt.title('Unidirectionnal FIT')\nplt.xlabel('Time'), plt.ylabel('MI (bits)')\nplt.legend()\nplt.show()"
      ]
    }
  ],
  "metadata": {
    "kernelspec": {
      "display_name": "Python 3",
      "language": "python",
      "name": "python3"
    },
    "language_info": {
      "codemirror_mode": {
        "name": "ipython",
        "version": 3
      },
      "file_extension": ".py",
      "mimetype": "text/x-python",
      "name": "python",
      "nbconvert_exporter": "python",
      "pygments_lexer": "ipython3",
      "version": "3.6.10"
    }
  },
  "nbformat": 4,
  "nbformat_minor": 0
}