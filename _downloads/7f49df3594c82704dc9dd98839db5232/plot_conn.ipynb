{
  "cells": [
    {
      "cell_type": "code",
      "execution_count": null,
      "metadata": {
        "collapsed": false
      },
      "outputs": [],
      "source": [
        "%matplotlib inline"
      ]
    },
    {
      "cell_type": "markdown",
      "metadata": {},
      "source": [
        "\nEstimate instantaneous connectivity using MI\n============================================\n\nThis example illustrates how to compute the connectivity using mutual\ninformation between pairwise ROI and also perform statistics.\n\n"
      ]
    },
    {
      "cell_type": "code",
      "execution_count": null,
      "metadata": {
        "collapsed": false
      },
      "outputs": [],
      "source": [
        "import numpy as np\nfrom itertools import product\n\nfrom frites.simulations import sim_multi_suj_ephy\nfrom frites.dataset import DatasetEphy\nfrom frites.workflow import WfConn\n\nimport matplotlib.pyplot as plt\nplt.style.use('seaborn-white')"
      ]
    },
    {
      "cell_type": "markdown",
      "metadata": {},
      "source": [
        "Simulate electrophysiological data\n----------------------------------\n\nLet's start by simulating MEG / EEG electrophysiological data coming from\nmultiple subjects using the function\n:func:`frites.simulations.sim_multi_suj_ephy`. As a result, the `x` output\nis a list of length `n_subjects` of arrays, each one with a shape of\nn_epochs, n_sites, n_times\n\n"
      ]
    },
    {
      "cell_type": "code",
      "execution_count": null,
      "metadata": {
        "collapsed": false
      },
      "outputs": [],
      "source": [
        "modality = 'meeg'\nn_subjects = 5\nn_epochs = 50\nn_times = 100\nx, roi, _ = sim_multi_suj_ephy(n_subjects=n_subjects, n_epochs=n_epochs,\n                               n_times=n_times, modality=modality,\n                               random_state=0, n_roi=4)\ntimes = np.linspace(-1, 1, n_times)"
      ]
    },
    {
      "cell_type": "markdown",
      "metadata": {},
      "source": [
        "Simulate spatial correlations\n-----------------------------\n\nBellow, we start by simulating some distant correlations by injecting the\nactivity of an ROI to another\n\n"
      ]
    },
    {
      "cell_type": "code",
      "execution_count": null,
      "metadata": {
        "collapsed": false
      },
      "outputs": [],
      "source": [
        "for k in range(n_subjects):\n    x[k][:, [1], slice(20, 40)] += x[k][:, [0], slice(20, 40)]\n    x[k][:, [2], slice(60, 80)] += x[k][:, [3], slice(60, 80)]\nprint(f'Corr 1 : {roi[0][0]}-{roi[0][1]} between [{times[20]}-{times[40]}]')\nprint(f'Corr 2 : {roi[0][2]}-{roi[0][3]} between [{times[60]}-{times[80]}]')"
      ]
    },
    {
      "cell_type": "markdown",
      "metadata": {},
      "source": [
        "Define the electrophysiological dataset\n---------------------------------------\n\nNow we define an instance of :class:`frites.dataset.DatasetEphy`\n\n"
      ]
    },
    {
      "cell_type": "code",
      "execution_count": null,
      "metadata": {
        "collapsed": false
      },
      "outputs": [],
      "source": [
        "dt = DatasetEphy(x, roi=roi, times=times)"
      ]
    },
    {
      "cell_type": "markdown",
      "metadata": {},
      "source": [
        "Compute the pairwise connectivity\n---------------------------------\n\nOnce we have the dataset instance, we can then define an instance of workflow\n:class:`frites.workflow.WfConn`. This instance is then used to compute the\npairwise connectivity\n\n"
      ]
    },
    {
      "cell_type": "code",
      "execution_count": null,
      "metadata": {
        "collapsed": false
      },
      "outputs": [],
      "source": [
        "n_perm = 100  # number of permutations to compute\nkernel = np.hanning(10)  # used for smoothing the MI\n\nwf = WfConn(kernel=kernel)\nmi, pv = wf.fit(dt, n_perm=n_perm, n_jobs=1)\nprint(mi)"
      ]
    },
    {
      "cell_type": "markdown",
      "metadata": {},
      "source": [
        "Plot the result of the DataArray\n--------------------------------\n\n"
      ]
    },
    {
      "cell_type": "code",
      "execution_count": null,
      "metadata": {
        "collapsed": false
      },
      "outputs": [],
      "source": [
        "# set to NaN everywhere it's not significant\nis_signi = pv.data < .05\npv.data[~is_signi] = np.nan\npv.data[is_signi] = 1.02 * mi.data.max()\n\n# plot each pair separately\nplt.figure(figsize=(9, 7))\nfor s, t in product(mi.source.data, mi.target.data):\n    if s == t: continue\n    # select the mi and p-values for the (source, target)\n    mi_st = mi.sel(source=s, target=t)\n    pv_st = pv.sel(source=s, target=t)\n    color = np.random.rand(3,)\n    plt.plot(times, mi_st, label=f\"{s}-{t}\", color=color)\n    plt.plot(times, pv_st, color=color, lw=4)\n    if not np.isnan(pv_st.data).all():\n        x_txt = times[~np.isnan(pv_st)].mean()\n        y_txt = 1.03 * mi.data.max()\n        plt.text(x_txt, y_txt, f\"{s}-{t}\", color=color, ha='center')\nplt.legend()\nplt.xlabel('Times')\nplt.ylabel('Mi (bits)')\nplt.title('Pairwise connectivity')\nplt.show()"
      ]
    }
  ],
  "metadata": {
    "kernelspec": {
      "display_name": "Python 3",
      "language": "python",
      "name": "python3"
    },
    "language_info": {
      "codemirror_mode": {
        "name": "ipython",
        "version": 3
      },
      "file_extension": ".py",
      "mimetype": "text/x-python",
      "name": "python",
      "nbconvert_exporter": "python",
      "pygments_lexer": "ipython3",
      "version": "3.6.12"
    }
  },
  "nbformat": 4,
  "nbformat_minor": 0
}