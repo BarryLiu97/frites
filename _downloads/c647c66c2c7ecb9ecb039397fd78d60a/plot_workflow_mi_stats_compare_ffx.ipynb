{
  "cells": [
    {
      "cell_type": "code",
      "execution_count": null,
      "metadata": {
        "collapsed": false
      },
      "outputs": [],
      "source": [
        "%matplotlib inline"
      ]
    },
    {
      "cell_type": "markdown",
      "metadata": {},
      "source": [
        "\nCompare within-subjects statistics when computing mutual information\n====================================================================\n\nThis example illustrates how to define and run a workflow for computing\nmutual information and evaluate stastitics. Inference are made within-subjects\n(fixed effect = ffx). \n\n"
      ]
    },
    {
      "cell_type": "code",
      "execution_count": null,
      "metadata": {
        "collapsed": false
      },
      "outputs": [],
      "source": [
        "import numpy as np\n\nfrom frites.simulations import sim_multi_suj_ephy, sim_mi_cc\nfrom frites.dataset import DatasetEphy\nfrom frites.workflow import WorkflowMiStats\n\nimport matplotlib.pyplot as plt\nplt.style.use('seaborn-white')"
      ]
    },
    {
      "cell_type": "markdown",
      "metadata": {},
      "source": [
        "Simulate electrophysiological data\n----------------------------------\n\nLet's start by simulating MEG / EEG electrophysiological data coming from\nmultiple subjects using the function\n:func:`frites.simulations.sim_multi_suj_ephy`. As a result, the `data` output\nis a list of length `n_subjects` of arrays, each one with a shape of\nn_epochs, n_sites, n_times\n\n"
      ]
    },
    {
      "cell_type": "code",
      "execution_count": null,
      "metadata": {
        "collapsed": false
      },
      "outputs": [],
      "source": [
        "modality = 'meeg'\nn_subjects = 5\nn_epochs = 100\nn_times = 100\ndata, roi, time = sim_multi_suj_ephy(n_subjects=n_subjects, n_epochs=n_epochs,\n                                     n_times=n_times, modality=modality,\n                                     random_state=0)"
      ]
    },
    {
      "cell_type": "markdown",
      "metadata": {},
      "source": [
        "Simulate mutual information\n---------------------------\n\nOnce the data have been created, we simulate an increase of mutual\ninformation by creating a continuous variable `y` using the function\n:func:`frites.simulations.sim_mi_cc`. This allows to simulate model-based\nanalysis by computing $I(data; y)$ where `data` and `y` are two continuous\nvariables\n\n"
      ]
    },
    {
      "cell_type": "code",
      "execution_count": null,
      "metadata": {
        "collapsed": false
      },
      "outputs": [],
      "source": [
        "y, _ = sim_mi_cc(data, snr=.3)"
      ]
    },
    {
      "cell_type": "markdown",
      "metadata": {},
      "source": [
        "Create an electrophysiological dataset\n--------------------------------------\n\nNow, we use the :class:`frites.dataset.DatasetEphy` in order to create a\ncompatible electrophysiological dataset\n\n"
      ]
    },
    {
      "cell_type": "code",
      "execution_count": null,
      "metadata": {
        "collapsed": false
      },
      "outputs": [],
      "source": [
        "dt = DatasetEphy(data, y, roi=roi, times=time, verbose=False)"
      ]
    },
    {
      "cell_type": "markdown",
      "metadata": {},
      "source": [
        "Define the workflow\n-------------------\n\nWe now define the workflow for computing mi and evaluate statistics using the\nclass :class:`frites.workflow.WorkflowMiStats`. Here, the type of mutual\ninformation to perform is 'cc' between it's computed between two continuous\nvariables. And we also specify the inference type 'ffx' for fixed-effect\n\n"
      ]
    },
    {
      "cell_type": "code",
      "execution_count": null,
      "metadata": {
        "collapsed": false
      },
      "outputs": [],
      "source": [
        "mi_type = 'cc'\ninference = 'ffx'\nwf = WorkflowMiStats(mi_type, inference)"
      ]
    },
    {
      "cell_type": "markdown",
      "metadata": {},
      "source": [
        "Compute the mutual information and statistics\n---------------------------------------------\n\n"
      ]
    },
    {
      "cell_type": "code",
      "execution_count": null,
      "metadata": {
        "collapsed": false
      },
      "outputs": [],
      "source": [
        "# list of fixed-effect methods to test\nffx_methods = ('ffx_maxstat', 'ffx_fdr', 'ffx_bonferroni',\n               'ffx_cluster_maxstat', 'ffx_cluster_fdr',\n               'ffx_cluster_bonferroni', 'ffx_cluster_tfce')\n\nn_perm = 100\nn_jobs = 1\npvalues = []\nplt.figure(figsize=(10, 8))\nfor ffx in ffx_methods:\n    mi, pvalues = wf.fit(dt, n_jobs=n_jobs, n_perm=n_perm, stat_method=ffx,\n                         output_type='array')\n    # set to 1. everywhere p-values are not significants\n    pvalues[pvalues >= .05] = 1.\n\n    plt.subplot(212)\n    plt.plot(time, pvalues.squeeze(), label=ffx)\n    plt.xlabel('Time (s)'), plt.ylabel(\"P-values\")\n    plt.title(\"P-values (ffx)\")\nplt.legend()\n\nplt.subplot(211)\nplt.plot(time, mi.squeeze())\nplt.xlabel('Time (s)'), plt.ylabel(\"Bits\")\nplt.title(\"Mutual information I(C; C)\")\nplt.autoscale(tight=True)\n\nplt.show()"
      ]
    }
  ],
  "metadata": {
    "kernelspec": {
      "display_name": "Python 3",
      "language": "python",
      "name": "python3"
    },
    "language_info": {
      "codemirror_mode": {
        "name": "ipython",
        "version": 3
      },
      "file_extension": ".py",
      "mimetype": "text/x-python",
      "name": "python",
      "nbconvert_exporter": "python",
      "pygments_lexer": "ipython3",
      "version": "3.6.9"
    }
  },
  "nbformat": 4,
  "nbformat_minor": 0
}